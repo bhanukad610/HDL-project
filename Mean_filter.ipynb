{
  "nbformat": 4,
  "nbformat_minor": 0,
  "metadata": {
    "colab": {
      "name": "Mean filter.ipynb",
      "provenance": [],
      "authorship_tag": "ABX9TyM3Nqjq10ihDu11E+9p55nF",
      "include_colab_link": true
    },
    "kernelspec": {
      "name": "python3",
      "display_name": "Python 3"
    }
  },
  "cells": [
    {
      "cell_type": "markdown",
      "metadata": {
        "id": "view-in-github",
        "colab_type": "text"
      },
      "source": [
        "<a href=\"https://colab.research.google.com/github/bhanukad610/HDL-project/blob/master/Mean_filter.ipynb\" target=\"_parent\"><img src=\"https://colab.research.google.com/assets/colab-badge.svg\" alt=\"Open In Colab\"/></a>"
      ]
    },
    {
      "cell_type": "code",
      "metadata": {
        "id": "MTO35aH2l6dW",
        "colab_type": "code",
        "colab": {}
      },
      "source": [
        "from google.colab import drive\n",
        "drive.mount('/content/drive')"
      ],
      "execution_count": 0,
      "outputs": []
    },
    {
      "cell_type": "code",
      "metadata": {
        "id": "ed_Ipx9WmwF4",
        "colab_type": "code",
        "colab": {}
      },
      "source": [
        "import cv2\n",
        "import numpy as np"
      ],
      "execution_count": 0,
      "outputs": []
    },
    {
      "cell_type": "code",
      "metadata": {
        "id": "IVYike4dmXT6",
        "colab_type": "code",
        "colab": {}
      },
      "source": [
        "img = cv2.imread('/content/drive/My Drive/Semester 7/HDL project/img.jpg')\n",
        "gray = cv2.cvtColor(img, cv2.COLOR_BGR2GRAY)"
      ],
      "execution_count": 0,
      "outputs": []
    },
    {
      "cell_type": "code",
      "metadata": {
        "id": "dcko4w3g4Xyr",
        "colab_type": "code",
        "colab": {
          "base_uri": "https://localhost:8080/",
          "height": 35
        },
        "outputId": "9db317b4-fde3-486e-fd84-671922c3a48b"
      },
      "source": [
        "F = 3\n",
        "S = 1\n",
        "W = gray.shape[0]\n",
        "P = ((S-1)*W-S+F)/2\n",
        "P"
      ],
      "execution_count": 4,
      "outputs": [
        {
          "output_type": "execute_result",
          "data": {
            "text/plain": [
              "1.0"
            ]
          },
          "metadata": {
            "tags": []
          },
          "execution_count": 4
        }
      ]
    },
    {
      "cell_type": "code",
      "metadata": {
        "id": "T0tnIOID57ei",
        "colab_type": "code",
        "colab": {}
      },
      "source": [
        "image_with_padding = []\n",
        "\n",
        "zeros_row = []\n",
        "\n",
        "for i in range(W+2):\n",
        "  zeros_row.append(0)\n",
        "\n",
        "image_with_padding.append(zeros_row)\n",
        "\n",
        "for row in gray:\n",
        "  new_row = []\n",
        "  new_row.append(0)\n",
        "  for i in row:\n",
        "    new_row.append(i)\n",
        "  new_row.append(0)\n",
        "  image_with_padding.append(new_row)\n",
        "\n",
        "image_with_padding.append(zeros_row)"
      ],
      "execution_count": 0,
      "outputs": []
    },
    {
      "cell_type": "code",
      "metadata": {
        "id": "QBsU5Dgw9HhC",
        "colab_type": "code",
        "colab": {}
      },
      "source": [
        "kernal = [1,1,1,1,1,1,1,1,1]"
      ],
      "execution_count": 0,
      "outputs": []
    },
    {
      "cell_type": "code",
      "metadata": {
        "id": "-LMwokmYzerg",
        "colab_type": "code",
        "colab": {}
      },
      "source": [
        "image_oneD = []\n",
        "\n",
        "for row in image_with_padding:\n",
        "  image_oneD += row"
      ],
      "execution_count": 0,
      "outputs": []
    },
    {
      "cell_type": "code",
      "metadata": {
        "id": "YigfUsITwLVy",
        "colab_type": "code",
        "colab": {}
      },
      "source": [
        "height = int(W + 2*P)\n",
        "width = int(W + 2*P)"
      ],
      "execution_count": 0,
      "outputs": []
    },
    {
      "cell_type": "code",
      "metadata": {
        "id": "TvJcjRRfwg-h",
        "colab_type": "code",
        "colab": {
          "base_uri": "https://localhost:8080/",
          "height": 329
        },
        "outputId": "2bd20a55-a61a-455f-c98e-d02e90742343"
      },
      "source": [
        "for h in range(height):\n",
        "  row = \"\"\n",
        "  for w in range(width):\n",
        "    row+= str(image_oneD[h*height + w]) + \" \"\n",
        "  print(row)"
      ],
      "execution_count": 28,
      "outputs": [
        {
          "output_type": "stream",
          "text": [
            "0 0 0 0 0 0 0 0 0 0 0 0 0 0 0 0 0 0 \n",
            "0 255 255 255 255 255 255 255 255 254 255 255 255 255 255 255 255 0 \n",
            "0 235 141 142 141 141 141 142 141 141 142 142 141 142 141 142 255 0 \n",
            "0 255 247 247 246 248 247 246 248 247 247 247 248 247 247 252 255 0 \n",
            "0 255 255 255 255 254 255 255 255 255 255 255 254 255 255 255 255 0 \n",
            "0 229 151 152 151 167 247 255 255 161 150 220 255 230 150 152 254 0 \n",
            "0 220 116 116 116 117 177 255 255 116 117 159 255 168 117 115 238 0 \n",
            "0 219 116 151 193 117 150 255 220 116 116 116 238 125 116 116 220 0 \n",
            "0 220 116 116 116 116 187 255 203 116 115 117 142 117 115 116 194 0 \n",
            "0 220 116 133 177 125 117 238 186 116 161 115 117 116 151 117 176 0 \n",
            "0 220 116 142 220 133 116 220 151 116 210 143 116 142 220 115 151 0 \n",
            "0 221 115 116 116 116 125 238 133 116 220 203 115 203 219 117 133 0 \n",
            "0 238 187 186 186 193 239 255 186 186 255 246 186 246 255 185 186 0 \n",
            "0 255 255 255 255 255 254 255 255 255 255 254 255 255 255 255 255 0 \n",
            "0 245 195 194 194 193 182 178 175 170 167 167 162 156 156 163 255 0 \n",
            "0 244 187 186 188 187 201 203 207 213 218 218 224 230 230 234 255 0 \n",
            "0 255 255 255 255 255 254 255 255 255 255 255 255 255 255 255 255 0 \n",
            "0 0 0 0 0 0 0 0 0 0 0 0 0 0 0 0 0 0 \n"
          ],
          "name": "stdout"
        }
      ]
    },
    {
      "cell_type": "code",
      "metadata": {
        "id": "IvOlB1VL49sD",
        "colab_type": "code",
        "colab": {}
      },
      "source": [
        "height_org = int(W)\n",
        "width_org = int(W)"
      ],
      "execution_count": 0,
      "outputs": []
    },
    {
      "cell_type": "code",
      "metadata": {
        "id": "oVoT8XyW5HaQ",
        "colab_type": "code",
        "colab": {}
      },
      "source": [
        "total_length = height_org * width_org\n",
        "new_image = []\n",
        "\n",
        "for h_bar in range(height_org):\n",
        "  for w_bar in range(width_org):\n",
        "    w = w_bar + 1\n",
        "    h = h_bar + 1\n",
        "\n",
        "    a = image_oneD[(h - 1) * height + (w - 1)] * kernal[0]\n",
        "    b = image_oneD[(h - 1) * height + w] * kernal[1]\n",
        "    c = image_oneD[(h - 1) * height + (w + 1)] * kernal[2]\n",
        "\n",
        "    d = image_oneD[h * height + (w - 1)] * kernal[3]\n",
        "    e = image_oneD[h * height + w] * kernal[4]\n",
        "    f = image_oneD[h * height + (w + 1)] * kernal[5]\n",
        "\n",
        "    g = image_oneD[(h + 1) * height + (w - 1)] * kernal[6]\n",
        "    k = image_oneD[(h + 1) * height + w] * kernal[7]\n",
        "    i = image_oneD[(h + 1) * height + (w + 1)] * kernal[8]\n",
        "\n",
        "    total = a + b + c + d + e + f + g + k + i\n",
        "            \n",
        "\n",
        "    mean_value = total / len(kernal)\n",
        "    new_image.append(mean_value)"
      ],
      "execution_count": 0,
      "outputs": []
    },
    {
      "cell_type": "code",
      "metadata": {
        "id": "Ln9AKP8zNT0a",
        "colab_type": "code",
        "colab": {}
      },
      "source": [
        "img_new = []\n",
        "\n",
        "for h in range(height_org):\n",
        "  row = []\n",
        "  for w in range(height_org):\n",
        "    row.append(new_image[h*height_org + w])\n",
        "  img_new.append(row)"
      ],
      "execution_count": 0,
      "outputs": []
    },
    {
      "cell_type": "code",
      "metadata": {
        "id": "vx06lGuoPrVl",
        "colab_type": "code",
        "colab": {
          "base_uri": "https://localhost:8080/",
          "height": 35
        },
        "outputId": "9d3e61ca-1429-41db-c57d-00998d1c9df5"
      },
      "source": [
        "cv2.imwrite('/content/drive/My Drive/Semester 7/HDL project/img_new.jpg', np.asarray(img_new))"
      ],
      "execution_count": 95,
      "outputs": [
        {
          "output_type": "execute_result",
          "data": {
            "text/plain": [
              "True"
            ]
          },
          "metadata": {
            "tags": []
          },
          "execution_count": 95
        }
      ]
    }
  ]
}